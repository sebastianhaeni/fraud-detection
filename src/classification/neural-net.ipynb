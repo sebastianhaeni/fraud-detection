{
 "cells": [
  {
   "cell_type": "code",
   "execution_count": 9,
   "metadata": {},
   "outputs": [],
   "source": [
    "from functools import partial\n",
    "from itertools import product\n",
    "\n",
    "import numpy as np\n",
    "from matplotlib import pyplot as plt\n",
    "from sklearn.metrics import confusion_matrix\n",
    "import pandas as pd\n",
    "from sklearn.model_selection import train_test_split\n",
    "import tensorflow as tf\n",
    "from tensorflow.keras.datasets import mnist\n",
    "from tensorflow.keras.models import Sequential\n",
    "from tensorflow.keras.layers import Dense\n",
    "from tensorflow.keras import backend as K\n",
    "\n",
    "from tensorflow.keras import utils\n",
    "\n",
    "%matplotlib inline"
   ]
  },
  {
   "cell_type": "code",
   "execution_count": 10,
   "metadata": {},
   "outputs": [],
   "source": [
    "dftrain = pd.read_csv('../../data/train.csv', sep='|')\n",
    "dftrain.insert(1, 'totalItemsScanned', dftrain['scannedLineItemsPerSecond'] * dftrain['totalScanTimeInSeconds'])\n",
    "dftrain = dftrain.drop(columns=[\n",
    "    'scannedLineItemsPerSecond', 'lineItemVoidsPerPosition', 'valuePerSecond',\n",
    "    'quantityModifications', 'grandTotal'\n",
    "])\n",
    "\n",
    "n_classes = 2\n",
    "y_train = dftrain.pop('fraud')\n",
    "dataset = tf.data.Dataset.from_tensor_slices((dftrain.values, y_train.values))\n",
    "train_dataset = dataset.shuffle(len(dftrain)).batch(1)"
   ]
  },
  {
   "cell_type": "code",
   "execution_count": 65,
   "metadata": {},
   "outputs": [],
   "source": [
    "# Custom loss function with costs\n",
    "def w_categorical_crossentropy(y_true, y_pred, weights, sample_weight):\n",
    "    final_mask = K.zeros_like(y_pred[:, 0])\n",
    "    y_pred_max = K.max(y_pred, axis=1)\n",
    "    y_pred_max = K.reshape(y_pred_max, (K.shape(y_pred)[0], 1))\n",
    "    y_pred_max_mat = tf.dtypes.cast(K.equal(y_pred, y_pred_max), tf.int32)\n",
    "    y_true_float32 = tf.dtypes.cast(y_true, tf.float32)\n",
    "    y_true_int32 = tf.dtypes.cast(y_true, tf.int32)\n",
    "\n",
    "    y_pred_one_hot = tf.one_hot(y_pred_max_mat, 2, axis=1)\n",
    "    y_true_one_hot = tf.one_hot(y_true_int32, 2, axis=1)\n",
    "\n",
    "    for c_p, c_t in product(range(n_classes), range(n_classes)):\n",
    "        final_mask += (weights[c_t, c_p] * y_pred_one_hot[:, c_p, 0] * y_true_one_hot[:, c_t, 0])\n",
    "\n",
    "    return K.sum(K.binary_crossentropy(y_pred, y_true_float32) * final_mask)\n",
    "\n",
    "\n",
    "w_array = np.ones((n_classes, n_classes))\n",
    "w_array[0, 0] = 1\n",
    "w_array[1, 0] = 1.1\n",
    "w_array[1, 1] = 1\n",
    "w_array[0, 1] = 1.3\n",
    "\n",
    "# normalize\n",
    "#w_array = (w_array - np.min(w_array)) / np.ptp(w_array)\n",
    "\n",
    "ncce = partial(w_categorical_crossentropy, weights=w_array)"
   ]
  },
  {
   "cell_type": "code",
   "execution_count": 68,
   "metadata": {},
   "outputs": [],
   "source": [
    "model = tf.keras.Sequential([\n",
    "    tf.keras.layers.Dense(64, activation='relu'),\n",
    "    tf.keras.layers.Dropout(0.2),\n",
    "    tf.keras.layers.Dense(1, activation='sigmoid')\n",
    "])"
   ]
  },
  {
   "cell_type": "code",
   "execution_count": 73,
   "metadata": {},
   "outputs": [
    {
     "name": "stdout",
     "output_type": "stream",
     "text": [
      "Epoch 1/5\n",
      "1879/1879 [==============================] - 5s 3ms/step - loss: 9.8341 - accuracy: 0.8957\n",
      "Epoch 2/5\n",
      "1879/1879 [==============================] - 2s 1ms/step - loss: 2.7801 - accuracy: 0.8946\n",
      "Epoch 3/5\n",
      "1879/1879 [==============================] - 2s 1ms/step - loss: 0.9575 - accuracy: 0.8978\n",
      "Epoch 4/5\n",
      "1879/1879 [==============================] - 2s 1ms/step - loss: 0.3403 - accuracy: 0.9175\n",
      "Epoch 5/5\n",
      "1879/1879 [==============================] - 2s 1ms/step - loss: 0.2349 - accuracy: 0.9377\n"
     ]
    }
   ],
   "source": [
    "epochs = 5\n",
    "#model.compile(loss=ncce, optimizer='adam', metrics=['accuracy'])\n",
    "model.compile(loss='binary_crossentropy', optimizer='adam', metrics=['accuracy'])\n",
    "log = model.fit(train_dataset, epochs=epochs, verbose=1)"
   ]
  },
  {
   "cell_type": "code",
   "execution_count": 74,
   "metadata": {},
   "outputs": [
    {
     "name": "stdout",
     "output_type": "stream",
     "text": [
      "{'loss': [9.834116600422043, 2.778633853230241, 0.9570287946657641, 0.3400851373888518, 0.2348152811259939], 'accuracy': [0.8956892, 0.8946248, 0.89781797, 0.9175093, 0.9377328]}\n"
     ]
    },
    {
     "data": {
      "image/png": "[encoded data removed]",
      "text/plain": [
       "<Figure size 864x288 with 2 Axes>"
      ]
     },
     "metadata": {
      "needs_background": "light"
     },
     "output_type": "display_data"
    }
   ],
   "source": [
    "print(log.history)\n",
    "f = plt.figure(figsize=(12,4))\n",
    "ax1 = f.add_subplot(121)\n",
    "ax2 = f.add_subplot(122)\n",
    "ax1.plot(log.history['loss'], label='Training loss')\n",
    "#ax1.plot(log.history['val_loss'], label='Testing loss')\n",
    "ax1.legend()\n",
    "ax1.grid()\n",
    "ax2.plot(log.history['accuracy'], label='Training acc')\n",
    "#ax2.plot(log.history['val_accuracy'], label='Testing acc')\n",
    "ax2.legend()\n",
    "ax2.grid()"
   ]
  },
  {
   "cell_type": "code",
   "execution_count": 61,
   "metadata": {},
   "outputs": [],
   "source": [
    "dftest = pd.read_csv('../../data/test.csv', sep='|')\n",
    "dftest.insert(1, 'totalItemsScanned', dftest['scannedLineItemsPerSecond'] * dftest['totalScanTimeInSeconds'])\n",
    "dftest = dftest.drop(columns=[\n",
    "    'scannedLineItemsPerSecond', 'lineItemVoidsPerPosition', 'valuePerSecond',\n",
    "    'quantityModifications', 'grandTotal'\n",
    "])\n",
    "\n",
    "X_test = dftest.values\n",
    "y_test = pd.read_csv('../../data/DMC-2019-realclass.csv').values\n"
   ]
  },
  {
   "cell_type": "code",
   "execution_count": 75,
   "metadata": {},
   "outputs": [],
   "source": [
    "y_pred = model.predict_proba(X_test)[:,0]"
   ]
  },
  {
   "cell_type": "code",
   "execution_count": 44,
   "metadata": {},
   "outputs": [],
   "source": [
    "def score_evaluation(y_true, y_pred):\n",
    "    conf = confusion_matrix(y_true, y_pred)\n",
    "    score = 0\n",
    "    score += conf[0][1] * -25\n",
    "    score += conf[1][0] * -5\n",
    "    score += conf[1][1] * 5\n",
    "\n",
    "    return score"
   ]
  },
  {
   "cell_type": "code",
   "execution_count": 78,
   "metadata": {},
   "outputs": [
    {
     "name": "stdout",
     "output_type": "stream",
     "text": [
      "0.01 -4775640\n",
      "0.11 -836345\n",
      "0.21 -277585\n",
      "0.31 -133375\n",
      "0.41 -118635\n",
      "0.51 -118635\n",
      "0.61 -118635\n",
      "0.71 -118635\n",
      "0.81 -118635\n",
      "0.91 -118635\n",
      "0\n",
      "-10000\n"
     ]
    },
    {
     "data": {
      "image/png": "[encoded data removed]",
      "text/plain": [
       "<Figure size 432x288 with 1 Axes>"
      ]
     },
     "metadata": {
      "needs_background": "light"
     },
     "output_type": "display_data"
    }
   ],
   "source": [
    "best_thresh = 0\n",
    "max_score = -10000\n",
    "\n",
    "thresholds = []\n",
    "scores = []\n",
    "\n",
    "for thresh in range(1, 100, 10):\n",
    "    thresh = thresh / 100\n",
    "\n",
    "    y_pred_local = y_pred.copy()\n",
    "    y_pred_local[y_pred_local >= thresh] = 1\n",
    "    y_pred_local[y_pred_local < thresh] = 0\n",
    "\n",
    "    score = score_evaluation(y_test, y_pred_local)\n",
    "    \n",
    "    thresholds.append(thresh)\n",
    "    scores.append(score)\n",
    "    \n",
    "    print(thresh, score)\n",
    "    \n",
    "    if score > max_score:\n",
    "        best_thresh = thresh\n",
    "        max_score = score\n",
    "\n",
    "plt.plot(thresholds, scores)\n",
    "\n",
    "print(best_thresh)\n",
    "print(max_score)"
   ]
  },
  {
   "cell_type": "code",
   "execution_count": null,
   "metadata": {},
   "outputs": [],
   "source": []
  }
 ],
 "metadata": {
  "kernelspec": {
   "display_name": "Python 3",
   "language": "python",
   "name": "python3"
  },
  "language_info": {
   "codemirror_mode": {
    "name": "ipython",
    "version": 3
   },
   "file_extension": ".py",
   "mimetype": "text/x-python",
   "name": "python",
   "nbconvert_exporter": "python",
   "pygments_lexer": "ipython3",
   "version": "3.7.3"
  },
  "varInspector": {
   "cols": {
    "lenName": 16,
    "lenType": 16,
    "lenVar": 40
   },
   "kernels_config": {
    "python": {
     "delete_cmd_postfix": "",
     "delete_cmd_prefix": "del ",
     "library": "var_list.py",
     "varRefreshCmd": "print(var_dic_list())"
    },
    "r": {
     "delete_cmd_postfix": ") ",
     "delete_cmd_prefix": "rm(",
     "library": "var_list.r",
     "varRefreshCmd": "cat(var_dic_list()) "
    }
   },
   "types_to_exclude": [
    "module",
    "function",
    "builtin_function_or_method",
    "instance",
    "_Feature"
   ],
   "window_display": false
  }
 },
 "nbformat": 4,
 "nbformat_minor": 2
}
